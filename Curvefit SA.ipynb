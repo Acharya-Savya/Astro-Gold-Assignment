{
  "cells": [
    {
      "cell_type": "markdown",
      "metadata": {
        "id": "9LFYjW8VMXpF"
      },
      "source": [
        "# Feedback from previous weeks and other and hints\n",
        "\n",
        "1. Be careful about your environment remembering variables. Make sure your code works in a new _clean_ environment. In Colab: `Runtime`->`restart Runtime`, in Anaconda's Jupyter: `Kernel`->`Restart`.\n",
        "2. Keep the file names when saving to GitHub. It's always possible to go back to a previous version, you are not losing anything.\n",
        "3. Run all the cells before saving to GitHub so the output is saved.\n",
        "4. Graphs without labels (or units when appropriate) are not worth any point.\n",
        "5. Do put in sufficient explanatory comments in your code.\n",
        "\n",
        "For this week you can use these imports:"
      ]
    },
    {
      "cell_type": "code",
      "execution_count": null,
      "metadata": {
        "id": "vi2KndkwMXpI"
      },
      "outputs": [],
      "source": [
        "import numpy as np\n",
        "import matplotlib.pyplot as plt\n",
        "from scipy.optimize import curve_fit"
      ]
    },
    {
      "cell_type": "markdown",
      "metadata": {
        "id": "_9GXxP6KMXpJ"
      },
      "source": [
        "Read the worksheet carefully before doing the exercises.\n",
        "\n",
        "# Introduction\n",
        "\n",
        "In this worksheet we’ll look at the extraction of information from experimental data. This is important for PX2338 (Obs tech) and your work in the year 2 lab as well as your year 3/4 project.\n",
        "\n",
        "We’ll first examine fitting of data with a straight line and then move on to more complicated functions.\n",
        "\n",
        "## Fitting with a straight line\n",
        "\n",
        "Let’s see how to fit data with a straight line, taking advantage of functions. **Go back to week 2 - Functions** and make sure you understand it. In particular, from week2 exercise 3 you fitted a straight line to data. Your code should look something like the code below. You will already have defined a function called linfit, which works along these lines:"
      ]
    },
    {
      "cell_type": "code",
      "execution_count": null,
      "metadata": {
        "id": "XXEaffErMXpK",
        "outputId": "75c4c040-a2fd-49cd-f56e-217c86ab066f"
      },
      "outputs": [
        {
          "name": "stdout",
          "output_type": "stream",
          "text": [
            "slope:  99.0595238095238 +/- 0.9295121405070327\n",
            "intercept:  6.166666666666632 +/- 3.8884282607017973\n",
            "\n"
          ]
        },
        {
          "data": {
            "image/png": "[encoded data removed]",
            "text/plain": [
              "<Figure size 432x288 with 1 Axes>"
            ]
          },
          "metadata": {
            "needs_background": "light"
          },
          "output_type": "display_data"
        }
      ],
      "source": [
        "# put some test data into arrays ...\n",
        "x_data = np.array([ 0.0, 1.0, 2.0, 3.0, 4.0, 5.0, 6.0, 7.0 ])\n",
        "y_data = np.array([ 2, 104, 212, 302, 398, 507, 606, 692 ])\n",
        "\n",
        "# define a nice, self-contained fitting routine.\n",
        "def linfit(x, y):\n",
        "    '''\n",
        "    Takes input arrays x an y and performs a linear least squares fit.\n",
        "    Returns estimated slope, error is slope,\n",
        "    intercept, error in intercept.\n",
        "    '''\n",
        "    # do LSF using method described in PX1224 week 4 ...\n",
        "    p_coeff, residuals, _, _, _ = np.polyfit(x, y, 1, full=True)\n",
        "    # Note: residuals is returned as an array with one element.\n",
        "    # residuals[0] is the value of this element\n",
        "    n = len(x)\n",
        "    D = sum(x**2) - 1./n * sum(x)**2\n",
        "    x_bar = np.mean(x)\n",
        "    dm_squared = 1./(n-2)*residuals[0]/D\n",
        "    dc_squared = 1./(n-2)*(D/n + x_bar**2)*residuals[0]/D\n",
        "    dm = np.sqrt(dm_squared)\n",
        "    dc = np.sqrt(dc_squared)\n",
        "    return p_coeff[0], dm, p_coeff[1], dc\n",
        "\n",
        "# Calling the fitting function:\n",
        "m, dm, c, dc = linfit(x_data, y_data)\n",
        "print ('slope: ', m, '+/-', dm)\n",
        "print ('intercept: ', c, '+/-', dc)\n",
        "print ()\n",
        "\n",
        "# Now for plotting purposes, we define a linear function\n",
        "def linear(x, m, c):\n",
        "    return m*x + c\n",
        "\n",
        "# alternative method to define the linear function\n",
        "# (effectively, it's identical to the other method\n",
        "# *p means just a list of values)\n",
        "def linear(x, *p):\n",
        "    return p[0]*x + p[1]\n",
        "\n",
        "# plot data\n",
        "plt.plot(x_data, y_data, 'r.',label='data')\n",
        "# plot fit\n",
        "x_plot = np.linspace(min(x_data),max(x_data),num=100)\n",
        "plt.plot(x_plot, linear(x_plot, m, c), 'b-',label='fit')\n",
        "plt.xlabel('x value')\n",
        "plt.ylabel('y value')\n",
        "plt.title('Plot of y versus x using linfit')\n",
        "plt.legend()\n",
        "plt.grid ()"
      ]
    },
    {
      "cell_type": "markdown",
      "metadata": {
        "id": "SAMl3f6_MXpL"
      },
      "source": [
        "The above thus implements a linear least squares fit using polyfit. **Make sure that your linfit routine works ok**. You can use this whenever you have data in the year 2 lab that you need to fit to a straight line.\n",
        "\n",
        "## Fitting with a more general function\n",
        "You can of course easily extend this and fit polynomials using `polyfit`, but what about more complicated functions? We’ll take advantage of the `scipy.optimize` routine `curve_fit` to fit directly just about any function we wish.\n",
        "The general way the curve fitting function is used is like this\n",
        "\n",
        "```python\n",
        "popt, pcov = curve_fit(f=func, xdata=x, ydata=y, p0=init_guess, bounds=([a_min, b_min], [a_max, b_max]))\n",
        "```\n",
        "\n",
        "Here, `func` is just the name of a function that you have defined, `x` and `y` are equal length data arrays, `init_guess` is an array of initial values (somewhere near to the final values you expect). (They don’t have to be called func, x, y and init_guess since those names are up to you in your program. But the `f=` parts and so on must be written as above.) The term `bounds` is to constrain the range of the parameters fitted and can usually be left out.\n",
        "\n",
        "There are other keywords which you can explore in Jupyter notebook’s help (Cmd/Ctrl+Space, Option+Esc or Tab for autocomplete, Cmd/Ctrl+Shift+Space for Docstring, depending on your settings and shortcuts. Cmd for Macs, Ctrl for Windows). Or go to this [link](https://docs.scipy.org/doc/scipy/reference/generated/scipy.optimize.curve_fit.html).\n",
        "\n",
        "Actually, the above form can be simplified slightly to\n",
        "\n",
        "```python\n",
        "# recommended form to use\n",
        "popt, pcov = curve_fit(func, x, y, init_guess, bounds=([a_min, b_min], [a_max, b_max]))\n",
        "```\n",
        "\n",
        "and you may not need the `bounds` key word.\n",
        "\n",
        "An example to show the usage is below. Here, we define a quadratic function as an illustration and check we get sensible result."
      ]
    },
    {
      "cell_type": "code",
      "execution_count": null,
      "metadata": {
        "id": "JP5Qt_yGMXpL"
      },
      "outputs": [],
      "source": [
        "def quadratic(x, *p):\n",
        "    return p[0]*x**2 + p[1]*x + p[2]"
      ]
    },
    {
      "cell_type": "markdown",
      "metadata": {
        "id": "tl5saci3MXpM"
      },
      "source": [
        "Do not run `curve_fit()` right away ! First make sure your fitting function makes sense. This is best done by plotting it with some guess parameters against the data:"
      ]
    },
    {
      "cell_type": "code",
      "execution_count": null,
      "metadata": {
        "id": "PcVWnyX6MXpM",
        "outputId": "03f2d10e-6177-4d99-da5b-befa13a702f7"
      },
      "outputs": [
        {
          "data": {
            "image/png": "[encoded data removed]",
            "text/plain": [
              "<Figure size 432x288 with 1 Axes>"
            ]
          },
          "metadata": {
            "needs_background": "light"
          },
          "output_type": "display_data"
        }
      ],
      "source": [
        "x_plot = np.linspace(min(x_data),max(x_data),num=100)\n",
        "\n",
        "# compute a guess curve by creating an array y_guess of data points.\n",
        "p_guess = np.array([10.0, 1.0, 0.0]) # initial guess\n",
        "y_guess = quadratic(x_plot, *p_guess) # values come from an educated guess looking at the data.\n",
        "\n",
        "# plot data\n",
        "plt.plot(x_data, y_data, 'r.',label='data')\n",
        "# plot fit\n",
        "plt.plot(x_plot, y_guess, 'b-',label='guess')\n",
        "plt.xlabel('x value')\n",
        "plt.ylabel('y value')\n",
        "plt.title('Plot of y versus x using an initial guess of quadratic()')\n",
        "plt.legend()\n",
        "plt.grid ()"
      ]
    },
    {
      "cell_type": "code",
      "execution_count": null,
      "metadata": {
        "id": "mccBVzsHMXpM"
      },
      "outputs": [],
      "source": [
        "# now do curve fit. We can use the initial guess from before\n",
        "# we must pass the #name# of the function ...\n",
        "popt, pcov = curve_fit(quadratic, x_data, y_data, p_guess) # do fit"
      ]
    },
    {
      "cell_type": "markdown",
      "metadata": {
        "id": "jYM6C0t7MXpN"
      },
      "source": [
        "A few things to note:\n",
        "We pass to the `curve_fit` routine the _name_ of the function we are fitting, which in this example is the `quadratic` function defined earlier.\n",
        "The `x_data` and `y_data` arrays are passed in, as well as an initial guess of the variables (which is not that crucial in this case, **but can be critical in some cases**).\n",
        "The optimised values are returned in the array `popt`, and information on the goodness of fit is returned in the array `pcov`.\n",
        "Thus the error in `popt[0]` can be found as `sqrt(pcov.diagonal()[0])` and likewise for the other optimised values.\n",
        "Once the fit is done, you can use the results - printing out the fitted coefficients and the errors for example, or plotting the data and the fitted curve."
      ]
    },
    {
      "cell_type": "code",
      "execution_count": null,
      "metadata": {
        "id": "vP0oDNDQMXpN",
        "outputId": "d85f8a20-ff9a-4905-a250-f7c8f69a5ec3"
      },
      "outputs": [
        {
          "name": "stdout",
          "output_type": "stream",
          "text": [
            "a:  -0.5297619047848805 +/- 0.4506307555014284\n",
            "b:  102.76785714307914 +/- 3.280641440439505\n",
            "c:  2.4583333333387096 +/- 4.9158036871993405\n",
            "\n"
          ]
        },
        {
          "data": {
            "image/png": "[encoded data removed]",
            "text/plain": [
              "<Figure size 432x288 with 1 Axes>"
            ]
          },
          "metadata": {
            "needs_background": "light"
          },
          "output_type": "display_data"
        }
      ],
      "source": [
        "print ('a: ', popt[0], '+/-', np.sqrt(pcov.diagonal()[0]))\n",
        "print ('b: ', popt[1], '+/-', np.sqrt(pcov.diagonal()[1]))\n",
        "print ('c: ', popt[2], '+/-', np.sqrt(pcov.diagonal()[2]))\n",
        "print ()\n",
        "\n",
        "x_plot = np.linspace(min(x_data),max(x_data),num=100)\n",
        "\n",
        "# find fitted curve by creating an array yfit of data points ...\n",
        "yfit = quadratic(x_plot, *popt)\n",
        "\n",
        "# plot data\n",
        "plt.plot(x_data, y_data, 'r.',label='data')\n",
        "# plot fit\n",
        "plt.plot(x_plot, yfit, 'b-',label='fit')\n",
        "plt.xlabel('x value')\n",
        "plt.ylabel('y value')\n",
        "plt.title('Plot of y versus x using curve_fit')\n",
        "plt.legend()\n",
        "plt.grid ()"
      ]
    },
    {
      "cell_type": "markdown",
      "metadata": {
        "id": "emcjxPqSMXpN"
      },
      "source": [
        "Note: the method we’ve used to pass the calculated coefficients to the linear function for plotting `quadratic(x, *popt)` is an alternative to `quadratic(x, popt[0], popt[1], popt[2])` with the same result, but this new notation saves a lot of typing if we have a function of many parameters.\n",
        "\n",
        "Note2: if there are not many data points it is better (as done in week 2) to set up a new more appropriate array of x values (here called `x_plot`) so that you get a nice smooth curve.\n",
        "\n",
        "Do the values found for the coefficients make sense to you? What about the errors compared to the errors when using the simpler linear fit?"
      ]
    },
    {
      "cell_type": "markdown",
      "metadata": {
        "id": "TFDg25DsMXpN"
      },
      "source": [
        "# Exercises\n",
        "This must be marked before you leave the lab. Mark weighting is in brackets.\n",
        "**Save your work to GitHub after having run all cells with `Runtime` -> `Restart and run all`. And do not change the notebook's filename.** Do add comments to your code, you'll lose points if your code is hard to understand. Graphs without labels (or units when appropriate) are not worth any point.\n",
        "\n",
        "**Note**: \"fitting\" does include providing the error measurements. E.g. the answer is not $a=100$ but $a=100^+_-1$.\n",
        "\n",
        "## Exercise 0\n",
        "\n",
        "[0] See the video on LearningCentral about fitting a Power Law to the Black Holes mass distribution.\n",
        "\n",
        "## Exercise 1\n",
        "[2] Use the above ideas to repeat a _linear_ fit using the `curve_fit` routine (not a _quadratic_ as in the example in the introduction). Confirm, by using your linfit function, that you get the same result as before."
      ]
    },
    {
      "cell_type": "code",
      "execution_count": 41,
      "metadata": {
        "id": "Kv9K5NnKMXpO",
        "outputId": "7a8a2058-d5b0-4a67-e94f-4aa6658ced9f",
        "colab": {
          "base_uri": "https://localhost:8080/"
        }
      },
      "outputs": [
        {
          "output_type": "stream",
          "name": "stdout",
          "text": [
            "Overwriting linfit.py\n"
          ]
        }
      ],
      "source": [
        "%%writefile linfit.py\n",
        "\n",
        "def linfit(x_data, y_data):\n",
        "\n",
        "  best_fit = numpy.polyfit(x_data, y_data, 1)\n",
        "  poly_1 = numpy.poly1d(best_fit)\n",
        "\n",
        "  n = len(x_data)\n",
        "  D = sum(x_data**2) - 1/n * sum(x_data)**2\n",
        "  x_data_bar = numpy.mean(x_data)\n",
        "  p_coeff = numpy.polyfit(x_data, y_data, 1)\n",
        "  p_coeff, residuals, a, b, c = numpy.polyfit(x_data, y_data, 1, full=True)\n",
        "  gradient_error = numpy.sqrt(1./(n-2)*residuals/D)\n",
        "  intercept_error = numpy.sqrt(1./(n-2)*(D/n + x_data_bar**2)*residuals/D)\n",
        "\n",
        "  print(f\"The gradient is {best_fit[0] :.3f} ± {gradient_error[0] :.3f}\")\n",
        "  print(f\"The intercept is {best_fit[1] :.3f} ± {intercept_error[0] :.3f} \\n\")\n",
        "\n",
        "  return p_coeff[0], p_coeff[1], best_fit, gradient_error, intercept_error\n",
        "\n",
        "\n",
        "\n",
        "\n",
        "\n",
        "\n",
        "\n",
        "\n",
        ""
      ]
    },
    {
      "cell_type": "code",
      "source": [
        "#Talk to demonstrators about where the black line is coming from\n",
        "\n",
        "import numpy as np\n",
        "import matplotlib.pyplot as plt\n",
        "from scipy.optimize import curve_fit\n",
        "from linfit import *\n",
        "\n",
        "x_data = np.array([1, 2, 3, 4, 5, 6,  7,  8,  9, 10])\n",
        "y_data = np.array([5, 4, 3, 2, 1, 0, -1, -2, -3, -4])\n",
        "\n",
        "\n",
        "#Creating the graph\n",
        "fig = plt.figure()\n",
        "plt.plot(x_data, y_data, \"x\", color = \"purple\")\n",
        "\n",
        "#Using curve_fit to apply a linear model:\n",
        "def linear(x, m, c):\n",
        "  return m*x + c\n",
        "constants = curve_fit(linear, x_data, y_data)\n",
        "grad_fit = constants[0][0]\n",
        "intercept_fit = constants[0][1]\n",
        "\n",
        "x = np.linspace(min(x_data), max(x_data), 100)\n",
        "plt.plot(x, linear(x, grad_fit, intercept_fit), color = \"red\", label = \"curve fit\")\n",
        "\n",
        "linfit(x_data, y_data)\n",
        "\n",
        "\n",
        "#Misc Code that sets up the graph etc.\n",
        "plt.title(\"Graph\")\n",
        "plt.xlabel(\"X-Axis\")\n",
        "plt.ylabel(\"Y-Axis\")\n",
        "plt.legend([\"Data\", \"curve fit\", \"linfit\"])\n",
        "plt.grid()\n",
        "plt.show()"
      ],
      "metadata": {
        "id": "0f3KUNYiMphT",
        "outputId": "94f212af-d748-4f63-ae77-bd5638d674af",
        "colab": {
          "base_uri": "https://localhost:8080/",
          "height": 524
        }
      },
      "execution_count": 49,
      "outputs": [
        {
          "output_type": "stream",
          "name": "stdout",
          "text": [
            "The gradient is -1.000 ± 0.000\n",
            "The intercept is 6.000 ± 0.000 \n",
            "\n"
          ]
        },
        {
          "output_type": "display_data",
          "data": {
            "text/plain": [
              "<Figure size 640x480 with 1 Axes>"
            ],
            "image/png": "[encoded data removed]"
          },
          "metadata": {}
        }
      ]
    },
    {
      "cell_type": "markdown",
      "metadata": {
        "id": "nEkz1klgMXpO"
      },
      "source": [
        "## Exercise 2\n",
        "The data file `XRD_data_Mo_anode.csv`:"
      ]
    },
    {
      "cell_type": "code",
      "execution_count": null,
      "metadata": {
        "id": "kPPyuf9zMXpO",
        "outputId": "19fb4e25-94b0-4e0e-b175-04c3d12f0da6"
      },
      "outputs": [
        {
          "name": "stdout",
          "output_type": "stream",
          "text": [
            "SSL_INIT\n"
          ]
        }
      ],
      "source": [
        "! wget -q https://raw.githubusercontent.com/PX2134/data/master/week4/XRD_data_Mo_anode.csv"
      ]
    },
    {
      "cell_type": "markdown",
      "metadata": {
        "id": "h27112icMXpO"
      },
      "source": [
        "contains X-ray diffraction data from a molybdenum anode source, obtained using a NaCl crystal. It shows two features, the K-alpha and K-beta (in the data one can see 3 orders – the 4th is present but weak) on top of a Brehmstrahlung (braking radiation) background. The columns are angle in degrees and intensity (measured as counts per second).\n",
        "\n",
        "1) [3] Read in the raw data points and plot a graph. Estimate **by eye** and make a note of the rough positions, widths and intensitys of the **first** two **main** peaks in first order (highest peaks), around angles of 6 and 7 degrees. Create a single data array that include the angle and count values from around those two peaks. For instance, to only have the data between angle of 1 and 30 you could do:\n",
        "\n",
        "    ```python\n",
        "    angles_selected=angles_full_data[(angles_full_datat>=1) & (angles_full_data<=30)]\n",
        "    counts_selected=counts_full_data[(angles_full_datat>=1) & (angles_full_data<=30)]\n",
        "    ```\n",
        "    \n",
        "    (1 and 30 are not the right values, you need to look at the plot, and make surer you include all of both peaks, but minimise any other features such as higher order peaks or drop-offs).\n",
        "\n",
        "2) [2] The peaks can be approximated as Gaussian in shape, i.e.: $$G(x;I,\\mu,\\sigma)=I\\frac{1}{\\sigma\\sqrt{2\\pi}}\\exp \\left(-\\frac{(x-\\mu)^2}{2\\sigma^2} \\right)$$ Define (in a similar way you did for the linear fitting) a Gaussian function, which you will use for fitting the data:\n",
        "\n",
        "    ```python\n",
        "    Gau(x, intensity, mu, sigma)\n",
        "    ```\n",
        "\n",
        "    Note that this Gaussian is normalised to have an area under the curve of intensity (I).\n",
        "\n",
        "3) [2] Now use `curve_fit()` to try fitting a Gaussian to the highest peak in the data you selected containing those first two peaks near 6 and 7. and plot the result. Remember to first plot your guess !\n",
        "\n",
        "4) [3] Repeat, but allowing for a constant background offset to improve the fit. Hint: Do this by defining a fitting function comprising a constant term plus a Gaussian, say `Gau_background(x, intensity, mu, sigma, bckg)`. (You can call the `Gau()` function from within `Gau_background()`. You now have four fitting parameters instead of three.)  \n",
        "  \n",
        "5) [4] Repeat, but allowing for a linear background to improve the fit. (This requires a function with an extra fitting parameter.)\n",
        "\n",
        "6) [4] Repeat, but allowing not only for a linear background to improve the fit, but also trying to fit the other peak together with the main one.\n",
        "\n",
        "Notes:\n",
        "\n",
        "  - Always plot your fitting function with some guesses first.\n",
        "  - If the error on all the parameters is very large, in general it means `curve_fit()` did not really manage to fit anything, don't use those values.\n",
        "  - Remember parameters are (by default) unbounded floats, e.g. if you try to fit a Gaussian at ~6.8, `curve_fit()` will hapilly try a negative intensity, e.g. fit a dip instead of a peak.\n",
        "  - When using bounds, careful with railing ! If the errors or values are equal (or nearly equal) to the bounds, the fit is not reliable and depends on the provided bounds.\n",
        "  - When fitting both signal and background, you can also try subtracting the background fit to the data.\n"
      ]
    },
    {
      "cell_type": "code",
      "execution_count": null,
      "metadata": {
        "id": "WrFIbERVMXpO"
      },
      "outputs": [],
      "source": []
    }
  ],
  "metadata": {
    "kernelspec": {
      "display_name": "Python 3.7.12 ('basic')",
      "language": "python",
      "name": "python3"
    },
    "language_info": {
      "codemirror_mode": {
        "name": "ipython",
        "version": 3
      },
      "file_extension": ".py",
      "mimetype": "text/x-python",
      "name": "python",
      "nbconvert_exporter": "python",
      "pygments_lexer": "ipython3",
      "version": "3.7.12"
    },
    "vscode": {
      "interpreter": {
        "hash": "fcb5cbb0c53afc4bc27099b238568fff966198a477b2d4ee9d37808403959e0b"
      }
    },
    "colab": {
      "provenance": []
    }
  },
  "nbformat": 4,
  "nbformat_minor": 0
}